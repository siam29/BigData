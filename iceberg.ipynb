{
 "cells": [
  {
   "cell_type": "code",
   "execution_count": 1,
   "metadata": {},
   "outputs": [
    {
     "name": "stdout",
     "output_type": "stream",
     "text": [
      "Elapsed time :  0.09657597200020973\n"
     ]
    }
   ],
   "source": [
    "import timeit\n",
    "\n",
    "start_time = timeit.default_timer()\n",
    "\n",
    "from pyspark.sql import SparkSession\n",
    "from pyspark.sql import functions as F\n",
    "from pyspark.sql.types import StructType, StructField, StringType, IntegerType, DoubleType, TimestampType\n",
    "import random\n",
    "\n",
    "end_time = timeit.default_timer()\n",
    "elapsed_time = end_time - start_time\n",
    "\n",
    "print(\"Elapsed time : \",elapsed_time)"
   ]
  },
  {
   "cell_type": "code",
   "execution_count": 2,
   "metadata": {},
   "outputs": [
    {
     "name": "stderr",
     "output_type": "stream",
     "text": [
      "25/01/10 12:39:42 WARN Utils: Your hostname, w3e103 resolves to a loopback address: 127.0.1.1; using 192.168.0.243 instead (on interface enp2s0)\n",
      "25/01/10 12:39:42 WARN Utils: Set SPARK_LOCAL_IP if you need to bind to another address\n"
     ]
    },
    {
     "name": "stdout",
     "output_type": "stream",
     "text": [
      ":: loading settings :: url = jar:file:/home/w3e103/Desktop/Iceberg/env/lib/python3.12/site-packages/pyspark/jars/ivy-2.5.1.jar!/org/apache/ivy/core/settings/ivysettings.xml\n"
     ]
    },
    {
     "name": "stderr",
     "output_type": "stream",
     "text": [
      "Ivy Default Cache set to: /home/w3e103/.ivy2/cache\n",
      "The jars for the packages stored in: /home/w3e103/.ivy2/jars\n",
      "org.apache.iceberg#iceberg-spark-runtime-3.5_2.12 added as a dependency\n",
      ":: resolving dependencies :: org.apache.spark#spark-submit-parent-823405ed-a85e-4507-bede-6bd4cf267671;1.0\n",
      "\tconfs: [default]\n",
      "\tfound org.apache.iceberg#iceberg-spark-runtime-3.5_2.12;1.5.2 in central\n",
      ":: resolution report :: resolve 318ms :: artifacts dl 10ms\n",
      "\t:: modules in use:\n",
      "\torg.apache.iceberg#iceberg-spark-runtime-3.5_2.12;1.5.2 from central in [default]\n",
      "\t---------------------------------------------------------------------\n",
      "\t|                  |            modules            ||   artifacts   |\n",
      "\t|       conf       | number| search|dwnlded|evicted|| number|dwnlded|\n",
      "\t---------------------------------------------------------------------\n",
      "\t|      default     |   1   |   0   |   0   |   0   ||   1   |   0   |\n",
      "\t---------------------------------------------------------------------\n",
      ":: retrieving :: org.apache.spark#spark-submit-parent-823405ed-a85e-4507-bede-6bd4cf267671\n",
      "\tconfs: [default]\n",
      "\t0 artifacts copied, 1 already retrieved (0kB/13ms)\n",
      "25/01/10 12:39:44 WARN NativeCodeLoader: Unable to load native-hadoop library for your platform... using builtin-java classes where applicable\n",
      "Setting default log level to \"WARN\".\n",
      "To adjust logging level use sc.setLogLevel(newLevel). For SparkR, use setLogLevel(newLevel).\n",
      "25/01/10 12:39:47 WARN Utils: Service 'SparkUI' could not bind on port 4040. Attempting port 4041.\n"
     ]
    },
    {
     "name": "stdout",
     "output_type": "stream",
     "text": [
      "Elapsed time :  8.46042941900123\n"
     ]
    }
   ],
   "source": [
    "start_time = timeit.default_timer()\n",
    "\n",
    "spark = SparkSession.builder \\\n",
    "  .appName(\"IcebergLocalDevelopment\") \\\n",
    "  .master(\"local[*]\") \\\n",
    "  .config('spark.jars.packages', 'org.apache.iceberg:iceberg-spark-runtime-3.5_2.12:1.5.2') \\\n",
    "  .config(\"spark.sql.extensions\", \"org.apache.iceberg.spark.extensions.IcebergSparkSessionExtensions\") \\\n",
    "  .config(\"spark.sql.catalog.local\", \"org.apache.iceberg.spark.SparkCatalog\") \\\n",
    "  .config(\"spark.sql.catalog.local.type\", \"hadoop\") \\\n",
    "  .config(\"spark.sql.catalog.local.warehouse\", \"spark-warehouse/iceberg\") \\\n",
    "  .getOrCreate()\n",
    "\n",
    "end_time = timeit.default_timer()\n",
    "elapsed_time = end_time - start_time\n",
    "\n",
    "print(\"Elapsed time : \",elapsed_time)"
   ]
  },
  {
   "cell_type": "code",
   "execution_count": 3,
   "metadata": {},
   "outputs": [
    {
     "name": "stderr",
     "output_type": "stream",
     "text": [
      "                                                                                \r"
     ]
    },
    {
     "name": "stdout",
     "output_type": "stream",
     "text": [
      "Toal number of samples in this dataset: 1000000\n",
      "The dataset contains 10 columns.\n",
      "+--------------------+--------------------+-------------+---------------+-------------------+--------------------+--------------------+--------------+----------+----------------+\n",
      "|            bookable|       chainAndBrand|      country|inventorySource|        lastUpdated|          propertyId|        propertyType|referencePrice|starRating|vrboPropertyType|\n",
      "+--------------------+--------------------+-------------+---------------+-------------------+--------------------+--------------------+--------------+----------+----------------+\n",
      "|{false, false, true}|                NULL|United States|           vrbo|03-04-2023 15:35:05|{33555268, 107476...|          {7, Condo}|  {USD, 455.0}|      NULL|         {false}|\n",
      "|{false, false, true}|                NULL|United States|           vrbo|03-04-2023 15:35:05|{33555279, 107476...|          {7, Condo}|  {USD, 521.0}|      NULL|         {false}|\n",
      "|{false, false, true}|                NULL|United States|           vrbo|03-04-2023 15:35:05|{33555316, 107477...|          {9, Cabin}|  {USD, 123.0}|      NULL|         {false}|\n",
      "|{false, false, true}|                NULL|United States|           vrbo|03-04-2023 15:35:05|{33555361, 107477...|{17, Private vaca...|  {USD, 284.0}|      NULL|         {false}|\n",
      "| {true, true, false}|{6888, Red Roof P...|United States|        expedia|03-04-2023 15:35:05|     {397, 150783, }|          {1, Hotel}|  {USD, 64.99}|       2.5|         {false}|\n",
      "|{false, false, true}|                NULL|United States|           vrbo|03-04-2023 15:35:05|{25165833, 806306...|       {11, Cottage}|  {USD, 180.0}|      NULL|         {false}|\n",
      "|  {true, true, true}|                NULL|        Spain|           vrbo|03-04-2023 15:35:05|{54526576, 174585...|{17, Private vaca...| {USD, 167.48}|      NULL|          {true}|\n",
      "|{false, false, true}|                NULL|United States|           vrbo|03-04-2023 15:35:05|{37749593, 120898...|{17, Private vaca...|  {USD, 150.0}|      NULL|         {false}|\n",
      "|  {true, true, true}|                NULL|      Vietnam|           vrbo|02-26-2023 10:23:25|{37749621, 120898...|{17, Private vaca...|   {USD, 12.0}|      NULL|          {true}|\n",
      "|{false, false, true}|                NULL|    Australia|           vrbo|03-04-2023 15:35:05|{33555243, 107476...|     {16, Apartment}| {USD, 357.48}|      NULL|         {false}|\n",
      "+--------------------+--------------------+-------------+---------------+-------------------+--------------------+--------------------+--------------+----------+----------------+\n",
      "only showing top 10 rows\n",
      "\n",
      "DataFrame read and displayed successfully.\n",
      "Elapsed time :  20.520637608999095\n"
     ]
    }
   ],
   "source": [
    "start_time = timeit.default_timer()\n",
    "\n",
    "try:\n",
    "    df = spark.read.json(\"expedia-lodging-listings-en_us-1-all.jsonl\")\n",
    "    num_rows = df.count()\n",
    "    print(f\"Toal number of samples in this dataset: {num_rows}\")\n",
    "    num_columns = len(df.columns)\n",
    "\n",
    "    print(f\"The dataset contains {num_columns} columns.\")\n",
    "    df.show(10)\n",
    "    print(\"DataFrame read and displayed successfully.\")\n",
    "except AnalysisException as e:\n",
    "    print(f\"An error occurred during DataFrame reading or displaying: {e}\")\n",
    "except Exception as e:\n",
    "    print(f\"An unexpected error occurred: {e}\")\n",
    "\n",
    "end_time = timeit.default_timer()\n",
    "elapsed_time = end_time - start_time\n",
    "\n",
    "print(\"Elapsed time : \",elapsed_time)"
   ]
  },
  {
   "cell_type": "code",
   "execution_count": 4,
   "metadata": {},
   "outputs": [],
   "source": [
    "# import timeit\n",
    "# from pyspark.sql.types import StructType, StructField, StringType, TimestampType, DoubleType, IntegerType\n",
    "\n",
    "# start_time = timeit.default_timer()\n",
    "\n",
    "# try:\n",
    "#     target_schema = StructType([\n",
    "#         StructField(\"listing_source_site\", StringType(), False),\n",
    "#         StructField(\"property_modified_date\", TimestampType(), False),\n",
    "#         StructField(\"star_rating\", StringType(), True),\n",
    "#         StructField(\"currency\", StringType(), False),\n",
    "#         StructField(\"usd_price\", DoubleType(), True),\n",
    "#         StructField(\"chain_and_brand\", StructType([\n",
    "#             StructField(\"brand_id\", IntegerType(), True),\n",
    "#             StructField(\"chain_id\", IntegerType(), True),\n",
    "#             StructField(\"brand_name\", StringType(), True),\n",
    "#             StructField(\"chain_name\", StringType(), True)\n",
    "#         ]), True),\n",
    "#         StructField(\"country_code\", StringType(), False)\n",
    "#     ])\n",
    "#     print(\"Schema defined successfully.\")\n",
    "# except Exception as e:\n",
    "#     print(f\"An error occurred while defining the schema: {e}\")\n",
    "\n",
    "# end_time = timeit.default_timer()\n",
    "# elapsed_time = end_time - start_time\n",
    "\n",
    "# print(\"Elapsed time:\", elapsed_time)"
   ]
  },
  {
   "cell_type": "code",
   "execution_count": null,
   "metadata": {},
   "outputs": [],
   "source": []
  },
  {
   "cell_type": "code",
   "execution_count": 5,
   "metadata": {},
   "outputs": [
    {
     "name": "stdout",
     "output_type": "stream",
     "text": [
      "UDF registered successfully.\n",
      "Elapsed time :  0.008073408000200288\n"
     ]
    }
   ],
   "source": [
    "start_time = timeit.default_timer()\n",
    "\n",
    "\n",
    "try:\n",
    "\n",
    "    country_code_mapping = {\n",
    "\n",
    "    \"Bonaire Saint Eustatius and Saba\": \"BSES\",\n",
    "    \"Paraguay\": \"PY\",\n",
    "    \"Anguilla\": \"AI\",\n",
    "    \"Macao\": \"MO\",\n",
    "    \"U.S. Virgin Islands\": \"USV\",\n",
    "    \"Senegal\": \"SN\",\n",
    "    \"Sweden\": \"SE\",\n",
    "    \"Guyana\": \"GY\",\n",
    "    \"Philippines\": \"PH\",\n",
    "    \"Jersey\": \"JE\",\n",
    "    \"Eritrea\": \"ER\",\n",
    "    \"Djibouti\": \"DJ\",\n",
    "    \"Norfolk Island\": \"NF\",\n",
    "    \"Tonga\": \"TO\",\n",
    "    \"Singapore\": \"SG\",\n",
    "    \"Malaysia\": \"MY\",\n",
    "    \"Fiji\": \"FJ\",\n",
    "    \"Turkey\": \"TR\",\n",
    "    \"Malawi\": \"MW\",\n",
    "    \"Germany\": \"DE\",\n",
    "    \"Northern Mariana Islands\": \"MP\",\n",
    "    \"Comoros\": \"KM\",\n",
    "    \"Cambodia\": \"KH\",\n",
    "    \"Maldives\": \"MV\",\n",
    "    \"Ivory Coast\": \"IC\",\n",
    "    \"Jordan\": \"JO\",\n",
    "    \"Rwanda\": \"RW\",\n",
    "    \"Palau\": \"PW\",\n",
    "    \"France\": \"FR\",\n",
    "    \"Turks and Caicos Islands\": \"TC\",\n",
    "    \"Greece\": \"GR\",\n",
    "    \"Sri Lanka\": \"LK\",\n",
    "    \"Montserrat\": \"MS\",\n",
    "    \"Taiwan\": \"TW\",\n",
    "    \"Dominica\": \"DM\",\n",
    "    \"British Virgin Islands\": \"VG\",\n",
    "    \"Algeria\": \"DZ\",\n",
    "    \"Togo\": \"TG\",\n",
    "    \"Equatorial Guinea\": \"GQ\",\n",
    "    \"Slovakia\": \"SK\",\n",
    "    \"Reunion\": \"RE\",\n",
    "    \"Argentina\": \"AR\",\n",
    "    \"Belgium\": \"BE\",\n",
    "    \"Angola\": \"AO\",\n",
    "    \"San Marino\": \"SM\",\n",
    "    \"Ecuador\": \"EC\",\n",
    "    \"Qatar\": \"QA\",\n",
    "    \"Lesotho\": \"LS\",\n",
    "    \"Albania\": \"AL\",\n",
    "    \"Madagascar\": \"MG\",\n",
    "    \"Finland\": \"FI\",\n",
    "    \"New Caledonia\": \"NC\",\n",
    "    \"Ghana\": \"GH\",\n",
    "    \"Myanmar\": \"MM\",\n",
    "    \"Nicaragua\": \"NI\",\n",
    "    \"Guernsey\": \"GG\",\n",
    "    \"Peru\": \"PE\",\n",
    "    \"Benin\": \"BJ\",\n",
    "    \"Sierra Leone\": \"SL\",\n",
    "    \"United States\": \"US\",\n",
    "    \"India\": \"IN\",\n",
    "    \"Bahamas\": \"BS\",\n",
    "    \"China\": \"CN\",\n",
    "    \"Curacao\": \"CUR\",\n",
    "    \"Belarus\": \"BY\",\n",
    "    \"Malta\": \"MT\",\n",
    "    \"Kuwait\": \"KW\",\n",
    "    \"Sao Tome and Principe\": \"ST\",\n",
    "    \"Palestinian Territory\": \"PT\",\n",
    "    \"Puerto Rico\": \"PR\",\n",
    "    \"Chile\": \"CL\",\n",
    "    \"Tajikistan\": \"TJ\",\n",
    "    \"Martinique\": \"MQ\",\n",
    "    \"Cayman Islands\": \"KY\",\n",
    "    \"Isle of Man\": \"IM\",\n",
    "    \"Croatia\": \"HR\",\n",
    "    \"Burundi\": \"BI\",\n",
    "    \"Nigeria\": \"NG\",\n",
    "    \"Andorra\": \"AD\",\n",
    "    \"Bolivia\": \"BO\",\n",
    "    \"Gabon\": \"GA\",\n",
    "    \"Italy\": \"IT\",\n",
    "    \"Suriname\": \"SR\",\n",
    "    \"Lithuania\": \"LT\",\n",
    "    \"Norway\": \"NO\",\n",
    "    \"Turkmenistan\": \"TM\",\n",
    "    \"Spain\": \"ES\",\n",
    "    \"Cuba\": \"CU\",\n",
    "    \"Mauritania\": \"MR\",\n",
    "    \"Guadeloupe\": \"GP\",\n",
    "    \"Denmark\": \"DK\",\n",
    "    \"Barbados\": \"BB\",\n",
    "    \"Bangladesh\": \"BD\",\n",
    "    \"Ireland\": \"IE\",\n",
    "    \"Liechtenstein\": \"LI\",\n",
    "    \"Swaziland\": \"SL\",\n",
    "    \"Thailand\": \"TH\",\n",
    "    \"Laos\": \"LA\",\n",
    "    \"Christmas Island\": \"CX\",\n",
    "    \"Bhutan\": \"BT\",\n",
    "    \"Democratic Republic of the Congo\": \"DRC\",\n",
    "    \"Morocco\": \"MA\",\n",
    "    \"Monaco\": \"MC\",\n",
    "    \"Panama\": \"PA\",\n",
    "    \"Cape Verde\": \"CV\",\n",
    "    \"Hong Kong\": \"HK\",\n",
    "    \"Israel\": \"IL\",\n",
    "    \"Iceland\": \"IS\",\n",
    "    \"Saint Barthelemy\": \"SB\",\n",
    "    \"Saint Kitts and Nevis\": \"KN\",\n",
    "    \"Oman\": \"OM\",\n",
    "    \"French Polynesia\": \"PF\",\n",
    "    \"South Korea\": \"KR\",\n",
    "    \"Cyprus\": \"CY\",\n",
    "    \"Gibraltar\": \"GI\",\n",
    "    \"Uruguay\": \"UY\",\n",
    "    \"Mexico\": \"MX\",\n",
    "    \"Aruba\": \"AW\",\n",
    "    \"Montenegro\": \"ME\",\n",
    "    \"Georgia\": \"GE\",\n",
    "    \"Zimbabwe\": \"ZW\",\n",
    "    \"Estonia\": \"EE\",\n",
    "    \"Indonesia\": \"ID\",\n",
    "    \"Saint Vincent and the Grenadines\": \"VC\",\n",
    "    \"Guatemala\": \"GT\",\n",
    "    \"Guam\": \"GU\",\n",
    "    \"Mongolia\": \"MN\",\n",
    "    \"Republic of the Congo\": \"CG\",\n",
    "    \"Azerbaijan\": \"AZ\",\n",
    "    \"Sint Maarten\": \"SIM\",\n",
    "    \"Grenada\": \"GD\",\n",
    "    \"Armenia\": \"AM\",\n",
    "    \"Tunisia\": \"TN\",\n",
    "    \"Liberia\": \"LR\",\n",
    "    \"Honduras\": \"HN\",\n",
    "    \"Trinidad and Tobago\": \"TT\",\n",
    "    \"Saudi Arabia\": \"SA\",\n",
    "    \"Uganda\": \"UG\",\n",
    "    \"Wallis and Futuna\": \"WF\",\n",
    "    \"French Guiana\": \"GF\",\n",
    "    \"Namibia\": \"NA\",\n",
    "    \"Mayotte\": \"YT\",\n",
    "    \"Switzerland\": \"CH\",\n",
    "    \"Zambia\": \"ZM\",\n",
    "    \"Ethiopia\": \"ET\",\n",
    "    \"Jamaica\": \"JM\",\n",
    "    \"Latvia\": \"LV\",\n",
    "    \"United Arab Emirates\": \"AE\",\n",
    "    \"Brunei\": \"BR\",\n",
    "    \"Saint Lucia\": \"LC\",\n",
    "    \"Saint Martin\": \"SAM\",\n",
    "    \"Aland Islands\": \"AI\",\n",
    "    \"Guinea\": \"GN\",\n",
    "    \"Canada\": \"CA\",\n",
    "    \"Seychelles\": \"SC\",\n",
    "    \"Kyrgyzstan\": \"KG\",\n",
    "    \"Uzbekistan\": \"UZ\",\n",
    "    \"Macedonia\": \"MD\",\n",
    "    \"Faroe Islands\": \"FO\",\n",
    "    \"Samoa\": \"WS\",\n",
    "    \"Czech Republic\": \"CZ\",\n",
    "    \"Mozambique\": \"MZ\",\n",
    "    \"Cook Islands\": \"CK\",\n",
    "    \"Brazil\": \"BR\",\n",
    "    \"Belize\": \"BZ\",\n",
    "    \"Kenya\": \"KE\",\n",
    "    \"Gambia\": \"GM\",\n",
    "    \"Lebanon\": \"LB\",\n",
    "    \"Slovenia\": \"SI\",\n",
    "    \"Antigua and Barbuda\": \"AG\",\n",
    "    \"Dominican Republic\": \"DO\",\n",
    "    \"Japan\": \"JP\",\n",
    "    \"Tanzania\": \"TZ\",\n",
    "    \"Botswana\": \"BW\",\n",
    "    \"Luxembourg\": \"LU\",\n",
    "    \"New Zealand\": \"NZ\",\n",
    "    \"United States Minor Outlying Islands\": \"UM\",\n",
    "    \"Bosnia and Herzegovina\": \"BA\",\n",
    "    \"Greenland\": \"GL\",\n",
    "    \"Haiti\": \"HT\",\n",
    "    \"Poland\": \"PL\",\n",
    "    \"Portugal\": \"PT\",\n",
    "    \"Australia\": \"AU\",\n",
    "    \"Cameroon\": \"CM\",\n",
    "    \"Papua New Guinea\": \"PG\",\n",
    "    \"Romania\": \"RO\",\n",
    "    \"Guinea-Bissau\": \"GW\",\n",
    "    \"Bulgaria\": \"BG\",\n",
    "    \"Austria\": \"AT\",\n",
    "    \"Nepal\": \"NP\",\n",
    "    \"Egypt\": \"EG\",\n",
    "    \"Costa Rica\": \"CR\",\n",
    "    \"El Salvador\": \"SV\",\n",
    "    \"Kazakhstan\": \"KZ\",\n",
    "    \"Serbia\": \"RS\",\n",
    "    \"South Africa\": \"ZA\",\n",
    "    \"Burkina Faso\": \"BF\",\n",
    "    \"Bermuda\": \"BM\",\n",
    "    \"Bahrain\": \"BH\",\n",
    "    \"Micronesia\": \"MC\",\n",
    "    \"Colombia\": \"CO\",\n",
    "    \"Hungary\": \"HU\",\n",
    "    \"Pakistan\": \"PK\",\n",
    "    \"Vanuatu\": \"VU\",\n",
    "    \"Mauritius\": \"MU\",\n",
    "    \"United Kingdom\": \"GB\",\n",
    "    \"Moldova\": \"MD\",\n",
    "    \"Vietnam\": \"VN\",\n",
    "    \"Netherlands\": \"NL\",\n",
    "    \"Mali\": \"ML\",\n",
    "    \"Chad\": \"TD\",\n",
    "    \"Svalbard and Jan Mayen\": \"SJ\",\n",
    "    \"Sudan\": \"SD\",\n",
    "    \"Niue\": \"NU\",\n",
    "    \"Kiribati\": \"KI\",\n",
    "    \"Iraq\": \"IQ\",\n",
    "    \"American Samoa\": \"AS\",\n",
    "    \"Saint Pierre and Miquelon\": \"PM\",\n",
    "    \"Niger\": \"NE\",\n",
    "    \"Solomon Islands\": \"SB\"\n",
    "\n",
    "}\n",
    "\n",
    "\n",
    "\n",
    "    def get_country_code(country_name):\n",
    "        if country_name is None:\n",
    "            return \"Unknown\"\n",
    "        return country_code_mapping.get(country_name, \"Unknown\")\n",
    "\n",
    "    country_udf = F.udf(get_country_code, StringType())\n",
    "\n",
    "    print(\"UDF registered successfully.\")\n",
    "except Exception as e:\n",
    "    print(f\"An error occurred while defining or registering the UDF: {e}\")\n",
    "\n",
    "\n",
    "\n",
    "end_time = timeit.default_timer()\n",
    "elapsed_time = end_time - start_time\n",
    "\n",
    "print(\"Elapsed time : \",elapsed_time)"
   ]
  },
  {
   "cell_type": "code",
   "execution_count": 15,
   "metadata": {},
   "outputs": [
    {
     "name": "stdout",
     "output_type": "stream",
     "text": [
      "DataFrame transformation successful.\n",
      "Elapsed time :  0.308171847000267\n"
     ]
    }
   ],
   "source": [
    "start_time = timeit.default_timer()\n",
    "\n",
    "try:\n",
    "\n",
    "  transformed_df = df.select(\n",
    "      F.lit(\"expedia\").alias(\"listing_source_site\"),\n",
    "      F.when(F.col(\"lastUpdated\").isNull(), F.lit(\"' '\"))\n",
    "        .otherwise(F.to_timestamp(\"lastUpdated\", \"dd-MM-yyyy HH:mm:ss\"))\n",
    "        .alias(\"property_modified_date\"),\n",
    "      F.when(F.col(\"starRating\").isNull(), F.lit(\"' '\"))\n",
    "        .otherwise(F.col(\"starRating\").cast(StringType()))\n",
    "        .alias(\"star_rating\"),\n",
    "      F.when(F.col(\"referencePrice.currency\").isNull(), F.lit(\"' '\"))\n",
    "        .otherwise(F.col(\"referencePrice.currency\"))\n",
    "        .alias(\"currency\"),\n",
    "      F.when(F.col(\"referencePrice.value\").isNull(), F.lit(\"' '\"))\n",
    "        .otherwise(F.col(\"referencePrice.value\").cast(DoubleType()))\n",
    "        .alias(\"usd_price\"),\n",
    "      F.struct(\n",
    "          F.when(F.col(\"chainAndBrand.brandId\").isNull(), F.concat(F.lit('\"brand_id\": '), F.lit(\"' '\")))\n",
    "          .otherwise(F.concat(F.lit('\"brand_id\": '), F.col(\"chainAndBrand.brandId\").cast(IntegerType()))).alias(\"brand_id\"),\n",
    "          F.when(F.col(\"chainAndBrand.chainId\").isNull(), F.concat(F.lit('\"chain_id\": '), F.lit(\"' '\")))\n",
    "          .otherwise(F.concat(F.lit('\"chain_id\": '), F.col(\"chainAndBrand.chainId\").cast(IntegerType()))).alias(\"chain_id\"),\n",
    "          F.when(F.col(\"chainAndBrand.brandName\").isNull(), F.concat(F.lit('\"brand_name\": '), F.lit(\"' '\")))\n",
    "          .otherwise(F.concat(F.lit('\"brand_name\": '), F.col(\"chainAndBrand.brandName\").cast(StringType()))).alias(\"brand_name\"),\n",
    "          F.when(F.col(\"chainAndBrand.chainName\").isNull(), F.concat(F.lit('\"chain_name\": '), F.lit(\"' '\")))\n",
    "          .otherwise(F.concat(F.lit('\"chain_name\": '), F.col(\"chainAndBrand.chainName\").cast(StringType()))).alias(\"chain_name\")\n",
    "      ).alias(\"chain_and_brand\"),\n",
    "      F.col(\"country\")  \n",
    "  )\n",
    "\n",
    "  print(\"DataFrame transformation successful.\")\n",
    "except Exception as e:\n",
    "  print(f\"An error occuured during DataFrame transformation: {e}\")\n",
    "\n",
    "end_time = timeit.default_timer()\n",
    "elapsed_time = end_time - start_time\n",
    "\n",
    "print(\"Elapsed time : \",elapsed_time)"
   ]
  },
  {
   "cell_type": "code",
   "execution_count": 16,
   "metadata": {},
   "outputs": [
    {
     "name": "stdout",
     "output_type": "stream",
     "text": [
      "+-------------------+----------------------+-----------+--------+---------+----------------------------------------------------------------------------------------------------------------+------------+\n",
      "|listing_source_site|property_modified_date|star_rating|currency|usd_price|chain_and_brand                                                                                                 |country_code|\n",
      "+-------------------+----------------------+-----------+--------+---------+----------------------------------------------------------------------------------------------------------------+------------+\n",
      "|expedia            |2023-04-03 15:35:05   |' '        |USD     |455.0    |{\"brand_id\": ' ', \"chain_id\": ' ', \"brand_name\": ' ', \"chain_name\": ' '}                                        |US          |\n",
      "|expedia            |2023-04-03 15:35:05   |' '        |USD     |521.0    |{\"brand_id\": ' ', \"chain_id\": ' ', \"brand_name\": ' ', \"chain_name\": ' '}                                        |US          |\n",
      "|expedia            |2023-04-03 15:35:05   |' '        |USD     |123.0    |{\"brand_id\": ' ', \"chain_id\": ' ', \"brand_name\": ' ', \"chain_name\": ' '}                                        |US          |\n",
      "|expedia            |2023-04-03 15:35:05   |' '        |USD     |284.0    |{\"brand_id\": ' ', \"chain_id\": ' ', \"brand_name\": ' ', \"chain_name\": ' '}                                        |US          |\n",
      "|expedia            |2023-04-03 15:35:05   |2.5        |USD     |64.99    |{\"brand_id\": 6888, \"chain_id\": 117, \"brand_name\": Red Roof Plus+, \"chain_name\": Red Roof Inn}                   |US          |\n",
      "|expedia            |2023-04-03 15:35:05   |' '        |USD     |180.0    |{\"brand_id\": ' ', \"chain_id\": ' ', \"brand_name\": ' ', \"chain_name\": ' '}                                        |US          |\n",
      "|expedia            |2023-04-03 15:35:05   |' '        |USD     |167.48   |{\"brand_id\": ' ', \"chain_id\": ' ', \"brand_name\": ' ', \"chain_name\": ' '}                                        |ES          |\n",
      "|expedia            |2023-04-03 15:35:05   |' '        |USD     |150.0    |{\"brand_id\": ' ', \"chain_id\": ' ', \"brand_name\": ' ', \"chain_name\": ' '}                                        |US          |\n",
      "|expedia            |NULL                  |' '        |USD     |12.0     |{\"brand_id\": ' ', \"chain_id\": ' ', \"brand_name\": ' ', \"chain_name\": ' '}                                        |VN          |\n",
      "|expedia            |2023-04-03 15:35:05   |' '        |USD     |357.48   |{\"brand_id\": ' ', \"chain_id\": ' ', \"brand_name\": ' ', \"chain_name\": ' '}                                        |AU          |\n",
      "|expedia            |2023-04-03 15:35:05   |' '        |USD     |755.0    |{\"brand_id\": ' ', \"chain_id\": ' ', \"brand_name\": ' ', \"chain_name\": ' '}                                        |US          |\n",
      "|expedia            |2023-04-03 15:35:05   |4          |USD     |139.06   |{\"brand_id\": 8808, \"chain_id\": 8712, \"brand_name\": Kintetsu Miyako Hotels, \"chain_name\": Kintetsu Miyako Hotels}|JP          |\n",
      "|expedia            |2023-04-03 15:35:05   |' '        |USD     |185.0    |{\"brand_id\": ' ', \"chain_id\": ' ', \"brand_name\": ' ', \"chain_name\": ' '}                                        |US          |\n",
      "|expedia            |2023-04-03 15:35:05   |' '        |USD     |292.0    |{\"brand_id\": ' ', \"chain_id\": ' ', \"brand_name\": ' ', \"chain_name\": ' '}                                        |US          |\n",
      "|expedia            |2023-04-03 15:35:05   |4          |USD     |178.5    |{\"brand_id\": 33, \"chain_id\": -5, \"brand_name\": Doubletree, \"chain_name\": Hilton Worldwide}                      |US          |\n",
      "|expedia            |2023-04-03 15:35:05   |' '        |USD     |175.0    |{\"brand_id\": ' ', \"chain_id\": ' ', \"brand_name\": ' ', \"chain_name\": ' '}                                        |US          |\n",
      "|expedia            |2023-01-03 12:04:10   |2          |USD     |0.0      |{\"brand_id\": ' ', \"chain_id\": ' ', \"brand_name\": ' ', \"chain_name\": ' '}                                        |IN          |\n",
      "|expedia            |2023-04-03 15:35:05   |' '        |USD     |495.0    |{\"brand_id\": ' ', \"chain_id\": ' ', \"brand_name\": ' ', \"chain_name\": ' '}                                        |US          |\n",
      "|expedia            |2023-04-03 15:35:05   |2.5        |USD     |62.89    |{\"brand_id\": 421, \"chain_id\": -16, \"brand_name\": Baymont Inns & Suites, \"chain_name\": Wyndham Hotels & Resorts} |US          |\n",
      "|expedia            |2023-04-03 15:35:05   |' '        |USD     |719.0    |{\"brand_id\": ' ', \"chain_id\": ' ', \"brand_name\": ' ', \"chain_name\": ' '}                                        |US          |\n",
      "+-------------------+----------------------+-----------+--------+---------+----------------------------------------------------------------------------------------------------------------+------------+\n",
      "only showing top 20 rows\n",
      "\n",
      "DataFrame transformation and display successful.\n",
      "Elapsed time :  1.039297486000578\n"
     ]
    }
   ],
   "source": [
    "start_time = timeit.default_timer()\n",
    "\n",
    "try:\n",
    "\n",
    "    final_df = transformed_df.withColumn(\"country_code\", country_udf(F.col(\"country\"))).drop(\"country\")\n",
    "    final_df.show(20, truncate=False)\n",
    "    print(\"DataFrame transformation and display successful.\")\n",
    "\n",
    "except AnalysisException as e:\n",
    "    print(f\"An error occurred during DataFrame transformation or display: {e}\")\n",
    "except Exception as e:\n",
    "    print(f\"An unexpected error occurred: {e}\")\n",
    "\n",
    "\n",
    "end_time = timeit.default_timer()\n",
    "elapsed_time = end_time - start_time\n",
    "\n",
    "print(\"Elapsed time : \",elapsed_time)"
   ]
  },
  {
   "cell_type": "code",
   "execution_count": 8,
   "metadata": {},
   "outputs": [
    {
     "data": {
      "text/plain": [
       "'\\ntry:\\n    final_df.writeTo(\"local.test_db\")         .partitionedBy(\"country_code\")         .createOrReplace()\\n    print(\"DataFrame successfully written to the Iceberg table.\")\\nexcept AnalysisException as e:\\n    print(f\"An error occurred while writing to the Iceberg table: {e}\")\\nexcept Exception as e:\\n    print(f\"An unexpected error occurred: {e}\")\\n    '"
      ]
     },
     "execution_count": 8,
     "metadata": {},
     "output_type": "execute_result"
    }
   ],
   "source": [
    "'''\n",
    "try:\n",
    "    final_df.writeTo(\"local.test_db\") \\\n",
    "        .partitionedBy(\"country_code\") \\\n",
    "        .createOrReplace()\n",
    "    print(\"DataFrame successfully written to the Iceberg table.\")\n",
    "except AnalysisException as e:\n",
    "    print(f\"An error occurred while writing to the Iceberg table: {e}\")\n",
    "except Exception as e:\n",
    "    print(f\"An unexpected error occurred: {e}\")\n",
    "    '''"
   ]
  },
  {
   "cell_type": "code",
   "execution_count": 9,
   "metadata": {},
   "outputs": [
    {
     "data": {
      "text/plain": [
       "'\\ntry:\\n    final_df.printSchema()\\n    print(\"Print the iceberg dataset Schema\")\\nexcept Analysis as a:\\n    print(f\"An error occured while printing iceberg table: {e}\")\\nexcept Exception as e:\\n    print(f\"An unexcepted error occured: {e}\")\\n    '"
      ]
     },
     "execution_count": 9,
     "metadata": {},
     "output_type": "execute_result"
    }
   ],
   "source": [
    "'''\n",
    "try:\n",
    "    final_df.printSchema()\n",
    "    print(\"Print the iceberg dataset Schema\")\n",
    "except Analysis as a:\n",
    "    print(f\"An error occured while printing iceberg table: {e}\")\n",
    "except Exception as e:\n",
    "    print(f\"An unexcepted error occured: {e}\")\n",
    "    '''"
   ]
  },
  {
   "cell_type": "code",
   "execution_count": 10,
   "metadata": {},
   "outputs": [
    {
     "data": {
      "text/plain": [
       "'\\ntry:\\n    iceberg_df = spark.read         .format(\"iceberg\")         .load(\"local.test_db\")\\n\\n    iceberg_df.show()\\n    print(\"Successfully show table into iceberg format\")\\nexcept Read as r:\\n    print(f\"An error occured while writing to Iceberg table: {e}\")\\n'"
      ]
     },
     "execution_count": 10,
     "metadata": {},
     "output_type": "execute_result"
    }
   ],
   "source": [
    "'''\n",
    "try:\n",
    "    iceberg_df = spark.read \\\n",
    "        .format(\"iceberg\") \\\n",
    "        .load(\"local.test_db\")\n",
    "\n",
    "    iceberg_df.show()\n",
    "    print(\"Successfully show table into iceberg format\")\n",
    "except Read as r:\n",
    "    print(f\"An error occured while writing to Iceberg table: {e}\")\n",
    "'''"
   ]
  },
  {
   "cell_type": "code",
   "execution_count": 11,
   "metadata": {},
   "outputs": [
    {
     "name": "stdout",
     "output_type": "stream",
     "text": [
      "root\n",
      " |-- listing_source_site: string (nullable = false)\n",
      " |-- property_modified_date: timestamp (nullable = true)\n",
      " |-- star_rating: string (nullable = true)\n",
      " |-- currency: string (nullable = true)\n",
      " |-- usd_price: double (nullable = true)\n",
      " |-- chain_and_brand: struct (nullable = false)\n",
      " |    |-- brand_id: string (nullable = true)\n",
      " |    |-- chain_id: string (nullable = true)\n",
      " |    |-- brand_name: string (nullable = true)\n",
      " |    |-- chain_name: string (nullable = true)\n",
      " |-- country_code: string (nullable = true)\n",
      "\n",
      "None\n"
     ]
    }
   ],
   "source": [
    "print(final_df.printSchema())"
   ]
  },
  {
   "cell_type": "code",
   "execution_count": 22,
   "metadata": {},
   "outputs": [
    {
     "data": {
      "text/plain": [
       "DataFrame[]"
      ]
     },
     "execution_count": 22,
     "metadata": {},
     "output_type": "execute_result"
    }
   ],
   "source": [
    "spark.sql(\"\"\"\n",
    "    CREATE TABLE IF NOT EXISTS local.siamdb.full_schema_table (\n",
    "        listing_source_site STRING NOT NULL,\n",
    "        property_modified_date STRING,\n",
    "        star_rating STRING,\n",
    "        currency STRING,\n",
    "        usd_price STRING,\n",
    "        chain_and_brand STRUCT<\n",
    "            brand_id: STRING,\n",
    "            chain_id: STRING,\n",
    "            brand_name: STRING,\n",
    "            chain_name: STRING\n",
    "        > NOT NULL,\n",
    "        country_code STRING\n",
    "    )\n",
    "    USING iceberg\n",
    "    PARTITIONED BY (country_code)\n",
    "    OPTIONS ('format-version'='2')\n",
    "\"\"\")"
   ]
  },
  {
   "cell_type": "code",
   "execution_count": 25,
   "metadata": {},
   "outputs": [
    {
     "data": {
      "text/plain": [
       "DataFrame[]"
      ]
     },
     "execution_count": 25,
     "metadata": {},
     "output_type": "execute_result"
    }
   ],
   "source": [
    "spark.sql(\"\"\"\n",
    "    CREATE TABLE IF NOT EXISTS local.siamdb.full_schema_table (\n",
    "        listing_source_site STRING NOT NULL,\n",
    "        property_modified_date STRING,\n",
    "        star_rating STRING,\n",
    "        currency STRING,\n",
    "        usd_price STRING,\n",
    "        chain_and_brand STRUCT<brand_id:STRING, chain_id:STRING, brand_name:STRING, chain_name:STRING> NOT NULL,\n",
    "        country_code STRING\n",
    "    )\n",
    "    USING iceberg\n",
    "    PARTITIONED BY (country_code)\n",
    "    OPTIONS ('format-version'='2')\n",
    "\"\"\")"
   ]
  },
  {
   "cell_type": "code",
   "execution_count": 24,
   "metadata": {},
   "outputs": [
    {
     "ename": "AnalysisException",
     "evalue": "[INSERT_COLUMN_ARITY_MISMATCH.TOO_MANY_DATA_COLUMNS] Cannot write to `local`.`siamdb`.`full_schema_table`, the reason is too many data columns:\nTable columns: `listing_source_site`, `property_modified_date`, `star_rating`, `currency`, `usd_price`, `chain_and_brand`, `country_code`.\nData columns: `ListingSourceSite`, `PropertyModifiedDate`, `StarRating`, `Currency`, `USDPrice`, `BrandID`, `ChainID`, `BrandName`, `ChainName`, `CountryCode`.",
     "output_type": "error",
     "traceback": [
      "\u001b[0;31m---------------------------------------------------------------------------\u001b[0m",
      "\u001b[0;31mAnalysisException\u001b[0m                         Traceback (most recent call last)",
      "Cell \u001b[0;32mIn[24], line 5\u001b[0m\n\u001b[1;32m      1\u001b[0m \u001b[38;5;66;03m# Write the DataFrame to the Iceberg table\u001b[39;00m\n\u001b[1;32m      2\u001b[0m \u001b[43mselected_df\u001b[49m\u001b[38;5;241;43m.\u001b[39;49m\u001b[43mwrite\u001b[49m\u001b[43m \u001b[49m\u001b[43m\\\u001b[49m\n\u001b[1;32m      3\u001b[0m \u001b[43m    \u001b[49m\u001b[38;5;241;43m.\u001b[39;49m\u001b[43mformat\u001b[49m\u001b[43m(\u001b[49m\u001b[38;5;124;43m\"\u001b[39;49m\u001b[38;5;124;43miceberg\u001b[39;49m\u001b[38;5;124;43m\"\u001b[39;49m\u001b[43m)\u001b[49m\u001b[43m \u001b[49m\u001b[43m\\\u001b[49m\n\u001b[1;32m      4\u001b[0m \u001b[43m    \u001b[49m\u001b[38;5;241;43m.\u001b[39;49m\u001b[43mmode\u001b[49m\u001b[43m(\u001b[49m\u001b[38;5;124;43m\"\u001b[39;49m\u001b[38;5;124;43mappend\u001b[39;49m\u001b[38;5;124;43m\"\u001b[39;49m\u001b[43m)\u001b[49m\u001b[43m \u001b[49m\u001b[43m\\\u001b[49m\n\u001b[0;32m----> 5\u001b[0m \u001b[43m    \u001b[49m\u001b[38;5;241;43m.\u001b[39;49m\u001b[43msaveAsTable\u001b[49m\u001b[43m(\u001b[49m\u001b[38;5;124;43m\"\u001b[39;49m\u001b[38;5;124;43mlocal.siamdb.full_schema_table\u001b[39;49m\u001b[38;5;124;43m\"\u001b[39;49m\u001b[43m)\u001b[49m\n",
      "File \u001b[0;32m~/Desktop/Iceberg/env/lib/python3.12/site-packages/pyspark/sql/readwriter.py:1586\u001b[0m, in \u001b[0;36mDataFrameWriter.saveAsTable\u001b[0;34m(self, name, format, mode, partitionBy, **options)\u001b[0m\n\u001b[1;32m   1584\u001b[0m \u001b[38;5;28;01mif\u001b[39;00m \u001b[38;5;28mformat\u001b[39m \u001b[38;5;129;01mis\u001b[39;00m \u001b[38;5;129;01mnot\u001b[39;00m \u001b[38;5;28;01mNone\u001b[39;00m:\n\u001b[1;32m   1585\u001b[0m     \u001b[38;5;28mself\u001b[39m\u001b[38;5;241m.\u001b[39mformat(\u001b[38;5;28mformat\u001b[39m)\n\u001b[0;32m-> 1586\u001b[0m \u001b[38;5;28;43mself\u001b[39;49m\u001b[38;5;241;43m.\u001b[39;49m\u001b[43m_jwrite\u001b[49m\u001b[38;5;241;43m.\u001b[39;49m\u001b[43msaveAsTable\u001b[49m\u001b[43m(\u001b[49m\u001b[43mname\u001b[49m\u001b[43m)\u001b[49m\n",
      "File \u001b[0;32m~/Desktop/Iceberg/env/lib/python3.12/site-packages/py4j/java_gateway.py:1322\u001b[0m, in \u001b[0;36mJavaMember.__call__\u001b[0;34m(self, *args)\u001b[0m\n\u001b[1;32m   1316\u001b[0m command \u001b[38;5;241m=\u001b[39m proto\u001b[38;5;241m.\u001b[39mCALL_COMMAND_NAME \u001b[38;5;241m+\u001b[39m\\\n\u001b[1;32m   1317\u001b[0m     \u001b[38;5;28mself\u001b[39m\u001b[38;5;241m.\u001b[39mcommand_header \u001b[38;5;241m+\u001b[39m\\\n\u001b[1;32m   1318\u001b[0m     args_command \u001b[38;5;241m+\u001b[39m\\\n\u001b[1;32m   1319\u001b[0m     proto\u001b[38;5;241m.\u001b[39mEND_COMMAND_PART\n\u001b[1;32m   1321\u001b[0m answer \u001b[38;5;241m=\u001b[39m \u001b[38;5;28mself\u001b[39m\u001b[38;5;241m.\u001b[39mgateway_client\u001b[38;5;241m.\u001b[39msend_command(command)\n\u001b[0;32m-> 1322\u001b[0m return_value \u001b[38;5;241m=\u001b[39m \u001b[43mget_return_value\u001b[49m\u001b[43m(\u001b[49m\n\u001b[1;32m   1323\u001b[0m \u001b[43m    \u001b[49m\u001b[43manswer\u001b[49m\u001b[43m,\u001b[49m\u001b[43m \u001b[49m\u001b[38;5;28;43mself\u001b[39;49m\u001b[38;5;241;43m.\u001b[39;49m\u001b[43mgateway_client\u001b[49m\u001b[43m,\u001b[49m\u001b[43m \u001b[49m\u001b[38;5;28;43mself\u001b[39;49m\u001b[38;5;241;43m.\u001b[39;49m\u001b[43mtarget_id\u001b[49m\u001b[43m,\u001b[49m\u001b[43m \u001b[49m\u001b[38;5;28;43mself\u001b[39;49m\u001b[38;5;241;43m.\u001b[39;49m\u001b[43mname\u001b[49m\u001b[43m)\u001b[49m\n\u001b[1;32m   1325\u001b[0m \u001b[38;5;28;01mfor\u001b[39;00m temp_arg \u001b[38;5;129;01min\u001b[39;00m temp_args:\n\u001b[1;32m   1326\u001b[0m     \u001b[38;5;28;01mif\u001b[39;00m \u001b[38;5;28mhasattr\u001b[39m(temp_arg, \u001b[38;5;124m\"\u001b[39m\u001b[38;5;124m_detach\u001b[39m\u001b[38;5;124m\"\u001b[39m):\n",
      "File \u001b[0;32m~/Desktop/Iceberg/env/lib/python3.12/site-packages/pyspark/errors/exceptions/captured.py:185\u001b[0m, in \u001b[0;36mcapture_sql_exception.<locals>.deco\u001b[0;34m(*a, **kw)\u001b[0m\n\u001b[1;32m    181\u001b[0m converted \u001b[38;5;241m=\u001b[39m convert_exception(e\u001b[38;5;241m.\u001b[39mjava_exception)\n\u001b[1;32m    182\u001b[0m \u001b[38;5;28;01mif\u001b[39;00m \u001b[38;5;129;01mnot\u001b[39;00m \u001b[38;5;28misinstance\u001b[39m(converted, UnknownException):\n\u001b[1;32m    183\u001b[0m     \u001b[38;5;66;03m# Hide where the exception came from that shows a non-Pythonic\u001b[39;00m\n\u001b[1;32m    184\u001b[0m     \u001b[38;5;66;03m# JVM exception message.\u001b[39;00m\n\u001b[0;32m--> 185\u001b[0m     \u001b[38;5;28;01mraise\u001b[39;00m converted \u001b[38;5;28;01mfrom\u001b[39;00m\u001b[38;5;250m \u001b[39m\u001b[38;5;28;01mNone\u001b[39;00m\n\u001b[1;32m    186\u001b[0m \u001b[38;5;28;01melse\u001b[39;00m:\n\u001b[1;32m    187\u001b[0m     \u001b[38;5;28;01mraise\u001b[39;00m\n",
      "\u001b[0;31mAnalysisException\u001b[0m: [INSERT_COLUMN_ARITY_MISMATCH.TOO_MANY_DATA_COLUMNS] Cannot write to `local`.`siamdb`.`full_schema_table`, the reason is too many data columns:\nTable columns: `listing_source_site`, `property_modified_date`, `star_rating`, `currency`, `usd_price`, `chain_and_brand`, `country_code`.\nData columns: `ListingSourceSite`, `PropertyModifiedDate`, `StarRating`, `Currency`, `USDPrice`, `BrandID`, `ChainID`, `BrandName`, `ChainName`, `CountryCode`."
     ]
    }
   ],
   "source": [
    "# Write the DataFrame to the Iceberg table\n",
    "selected_df.write \\\n",
    "    .format(\"iceberg\") \\\n",
    "    .mode(\"append\") \\\n",
    "    .saveAsTable(\"local.siamdb.full_schema_table\")"
   ]
  },
  {
   "cell_type": "code",
   "execution_count": 88,
   "metadata": {},
   "outputs": [
    {
     "ename": "AnalysisException",
     "evalue": "[INCOMPATIBLE_DATA_FOR_TABLE.CANNOT_FIND_DATA] Cannot write incompatible data for the table `local`.`siamdb`.`full_schema_table1`: Cannot find data for the output column `listing_source_site`.",
     "output_type": "error",
     "traceback": [
      "\u001b[0;31m---------------------------------------------------------------------------\u001b[0m",
      "\u001b[0;31mAnalysisException\u001b[0m                         Traceback (most recent call last)",
      "Cell \u001b[0;32mIn[88], line 5\u001b[0m\n\u001b[1;32m      1\u001b[0m \u001b[43mfinal_df\u001b[49m\u001b[38;5;241;43m.\u001b[39;49m\u001b[43mselectExpr\u001b[49m\u001b[43m(\u001b[49m\u001b[38;5;124;43m\"\u001b[39;49m\u001b[38;5;124;43mstar_rating as StarRating\u001b[39;49m\u001b[38;5;124;43m\"\u001b[39;49m\u001b[43m,\u001b[49m\u001b[43m \u001b[49m\u001b[38;5;124;43m\"\u001b[39;49m\u001b[38;5;124;43musd_price as USDPrice\u001b[39;49m\u001b[38;5;124;43m\"\u001b[39;49m\u001b[43m,\u001b[49m\u001b[43m \u001b[49m\u001b[38;5;124;43m\"\u001b[39;49m\u001b[38;5;124;43mcountry_code as CountryCode\u001b[39;49m\u001b[38;5;124;43m\"\u001b[39;49m\u001b[43m)\u001b[49m\u001b[43m \u001b[49m\u001b[43m\\\u001b[49m\n\u001b[1;32m      2\u001b[0m \u001b[43m    \u001b[49m\u001b[38;5;241;43m.\u001b[39;49m\u001b[43mwrite\u001b[49m\u001b[43m \u001b[49m\u001b[43m\\\u001b[49m\n\u001b[1;32m      3\u001b[0m \u001b[43m    \u001b[49m\u001b[38;5;241;43m.\u001b[39;49m\u001b[43mformat\u001b[49m\u001b[43m(\u001b[49m\u001b[38;5;124;43m\"\u001b[39;49m\u001b[38;5;124;43miceberg\u001b[39;49m\u001b[38;5;124;43m\"\u001b[39;49m\u001b[43m)\u001b[49m\u001b[43m \u001b[49m\u001b[43m\\\u001b[49m\n\u001b[1;32m      4\u001b[0m \u001b[43m    \u001b[49m\u001b[38;5;241;43m.\u001b[39;49m\u001b[43mmode\u001b[49m\u001b[43m(\u001b[49m\u001b[38;5;124;43m\"\u001b[39;49m\u001b[38;5;124;43mappend\u001b[39;49m\u001b[38;5;124;43m\"\u001b[39;49m\u001b[43m)\u001b[49m\u001b[43m \u001b[49m\u001b[43m\\\u001b[49m\n\u001b[0;32m----> 5\u001b[0m \u001b[43m    \u001b[49m\u001b[38;5;241;43m.\u001b[39;49m\u001b[43msaveAsTable\u001b[49m\u001b[43m(\u001b[49m\u001b[38;5;124;43m\"\u001b[39;49m\u001b[38;5;124;43mlocal.siamdb.full_schema_table1\u001b[39;49m\u001b[38;5;124;43m\"\u001b[39;49m\u001b[43m)\u001b[49m\n\u001b[1;32m      7\u001b[0m \u001b[38;5;124;03m'''\u001b[39;00m\n\u001b[1;32m      8\u001b[0m \u001b[38;5;124;03mfinal_df.write \\\u001b[39;00m\n\u001b[1;32m      9\u001b[0m \u001b[38;5;124;03m    .format(\"iceberg\") \\\u001b[39;00m\n\u001b[1;32m     10\u001b[0m \u001b[38;5;124;03m    .mode(\"append\") \\\u001b[39;00m\n\u001b[1;32m     11\u001b[0m \u001b[38;5;124;03m    .saveAsTable(\"local.siamdb.full_schema_table1\")\u001b[39;00m\n\u001b[1;32m     12\u001b[0m \u001b[38;5;124;03m    '''\u001b[39;00m\n",
      "File \u001b[0;32m~/Desktop/Iceberg/env/lib/python3.12/site-packages/pyspark/sql/readwriter.py:1586\u001b[0m, in \u001b[0;36mDataFrameWriter.saveAsTable\u001b[0;34m(self, name, format, mode, partitionBy, **options)\u001b[0m\n\u001b[1;32m   1584\u001b[0m \u001b[38;5;28;01mif\u001b[39;00m \u001b[38;5;28mformat\u001b[39m \u001b[38;5;129;01mis\u001b[39;00m \u001b[38;5;129;01mnot\u001b[39;00m \u001b[38;5;28;01mNone\u001b[39;00m:\n\u001b[1;32m   1585\u001b[0m     \u001b[38;5;28mself\u001b[39m\u001b[38;5;241m.\u001b[39mformat(\u001b[38;5;28mformat\u001b[39m)\n\u001b[0;32m-> 1586\u001b[0m \u001b[38;5;28;43mself\u001b[39;49m\u001b[38;5;241;43m.\u001b[39;49m\u001b[43m_jwrite\u001b[49m\u001b[38;5;241;43m.\u001b[39;49m\u001b[43msaveAsTable\u001b[49m\u001b[43m(\u001b[49m\u001b[43mname\u001b[49m\u001b[43m)\u001b[49m\n",
      "File \u001b[0;32m~/Desktop/Iceberg/env/lib/python3.12/site-packages/py4j/java_gateway.py:1322\u001b[0m, in \u001b[0;36mJavaMember.__call__\u001b[0;34m(self, *args)\u001b[0m\n\u001b[1;32m   1316\u001b[0m command \u001b[38;5;241m=\u001b[39m proto\u001b[38;5;241m.\u001b[39mCALL_COMMAND_NAME \u001b[38;5;241m+\u001b[39m\\\n\u001b[1;32m   1317\u001b[0m     \u001b[38;5;28mself\u001b[39m\u001b[38;5;241m.\u001b[39mcommand_header \u001b[38;5;241m+\u001b[39m\\\n\u001b[1;32m   1318\u001b[0m     args_command \u001b[38;5;241m+\u001b[39m\\\n\u001b[1;32m   1319\u001b[0m     proto\u001b[38;5;241m.\u001b[39mEND_COMMAND_PART\n\u001b[1;32m   1321\u001b[0m answer \u001b[38;5;241m=\u001b[39m \u001b[38;5;28mself\u001b[39m\u001b[38;5;241m.\u001b[39mgateway_client\u001b[38;5;241m.\u001b[39msend_command(command)\n\u001b[0;32m-> 1322\u001b[0m return_value \u001b[38;5;241m=\u001b[39m \u001b[43mget_return_value\u001b[49m\u001b[43m(\u001b[49m\n\u001b[1;32m   1323\u001b[0m \u001b[43m    \u001b[49m\u001b[43manswer\u001b[49m\u001b[43m,\u001b[49m\u001b[43m \u001b[49m\u001b[38;5;28;43mself\u001b[39;49m\u001b[38;5;241;43m.\u001b[39;49m\u001b[43mgateway_client\u001b[49m\u001b[43m,\u001b[49m\u001b[43m \u001b[49m\u001b[38;5;28;43mself\u001b[39;49m\u001b[38;5;241;43m.\u001b[39;49m\u001b[43mtarget_id\u001b[49m\u001b[43m,\u001b[49m\u001b[43m \u001b[49m\u001b[38;5;28;43mself\u001b[39;49m\u001b[38;5;241;43m.\u001b[39;49m\u001b[43mname\u001b[49m\u001b[43m)\u001b[49m\n\u001b[1;32m   1325\u001b[0m \u001b[38;5;28;01mfor\u001b[39;00m temp_arg \u001b[38;5;129;01min\u001b[39;00m temp_args:\n\u001b[1;32m   1326\u001b[0m     \u001b[38;5;28;01mif\u001b[39;00m \u001b[38;5;28mhasattr\u001b[39m(temp_arg, \u001b[38;5;124m\"\u001b[39m\u001b[38;5;124m_detach\u001b[39m\u001b[38;5;124m\"\u001b[39m):\n",
      "File \u001b[0;32m~/Desktop/Iceberg/env/lib/python3.12/site-packages/pyspark/errors/exceptions/captured.py:185\u001b[0m, in \u001b[0;36mcapture_sql_exception.<locals>.deco\u001b[0;34m(*a, **kw)\u001b[0m\n\u001b[1;32m    181\u001b[0m converted \u001b[38;5;241m=\u001b[39m convert_exception(e\u001b[38;5;241m.\u001b[39mjava_exception)\n\u001b[1;32m    182\u001b[0m \u001b[38;5;28;01mif\u001b[39;00m \u001b[38;5;129;01mnot\u001b[39;00m \u001b[38;5;28misinstance\u001b[39m(converted, UnknownException):\n\u001b[1;32m    183\u001b[0m     \u001b[38;5;66;03m# Hide where the exception came from that shows a non-Pythonic\u001b[39;00m\n\u001b[1;32m    184\u001b[0m     \u001b[38;5;66;03m# JVM exception message.\u001b[39;00m\n\u001b[0;32m--> 185\u001b[0m     \u001b[38;5;28;01mraise\u001b[39;00m converted \u001b[38;5;28;01mfrom\u001b[39;00m\u001b[38;5;250m \u001b[39m\u001b[38;5;28;01mNone\u001b[39;00m\n\u001b[1;32m    186\u001b[0m \u001b[38;5;28;01melse\u001b[39;00m:\n\u001b[1;32m    187\u001b[0m     \u001b[38;5;28;01mraise\u001b[39;00m\n",
      "\u001b[0;31mAnalysisException\u001b[0m: [INCOMPATIBLE_DATA_FOR_TABLE.CANNOT_FIND_DATA] Cannot write incompatible data for the table `local`.`siamdb`.`full_schema_table1`: Cannot find data for the output column `listing_source_site`."
     ]
    }
   ],
   "source": [
    "final_df.selectExpr(\"star_rating as StarRating\", \"usd_price as USDPrice\", \"country_code as CountryCode\") \\\n",
    "    .write \\\n",
    "    .format(\"iceberg\") \\\n",
    "    .mode(\"append\") \\\n",
    "    .saveAsTable(\"local.siamdb.full_schema_table1\")"
   ]
  },
  {
   "cell_type": "code",
   "execution_count": 33,
   "metadata": {},
   "outputs": [
    {
     "data": {
      "text/plain": [
       "DataFrame[]"
      ]
     },
     "execution_count": 33,
     "metadata": {},
     "output_type": "execute_result"
    }
   ],
   "source": [
    "spark.sql(\"\"\"\n",
    "CREATE TABLE IF NOT EXISTS local.siamdb.full_schema_table (\n",
    "    listing_source_site STRING NOT NULL,\n",
    "    property_modified_date TIMESTAMP,\n",
    "    star_rating STRING,\n",
    "    currency STRING,\n",
    "    usd_price DOUBLE,\n",
    "    chain_and_brand STRUCT<brand_id:STRING, chain_id:STRING, brand_name:STRING, chain_name:STRING> NOT NULL,\n",
    "    country_code STRING\n",
    ")\n",
    "USING iceberg\n",
    "PARTITIONED BY (country_code)\n",
    "OPTIONS ('format-version'='2')\n",
    "          \"\"\")"
   ]
  },
  {
   "cell_type": "code",
   "execution_count": 34,
   "metadata": {},
   "outputs": [
    {
     "name": "stderr",
     "output_type": "stream",
     "text": [
      "                                                                                \r"
     ]
    }
   ],
   "source": [
    "final_df.write \\\n",
    "    .format(\"iceberg\") \\\n",
    "    .mode(\"append\") \\\n",
    "    .saveAsTable(\"local.siamdb.full_schema_table\")"
   ]
  },
  {
   "cell_type": "code",
   "execution_count": 38,
   "metadata": {},
   "outputs": [
    {
     "name": "stdout",
     "output_type": "stream",
     "text": [
      "+-------------------+----------------------+-----------+--------+---------+----------------------------------------------------------------------------------+------------+\n",
      "|listing_source_site|property_modified_date|star_rating|currency|usd_price|chain_and_brand                                                                   |country_code|\n",
      "+-------------------+----------------------+-----------+--------+---------+----------------------------------------------------------------------------------+------------+\n",
      "|expedia            |2023-04-03 15:35:06   |3          |USD     |55.56    |{\"brand_id\": ' ', \"chain_id\": ' ', \"brand_name\": ' ', \"chain_name\": ' '}          |PL          |\n",
      "|expedia            |2023-04-03 15:35:06   |' '        |USD     |0.0      |{\"brand_id\": ' ', \"chain_id\": ' ', \"brand_name\": ' ', \"chain_name\": ' '}          |PL          |\n",
      "|expedia            |2023-04-03 15:35:07   |3          |USD     |0.0      |{\"brand_id\": ' ', \"chain_id\": ' ', \"brand_name\": ' ', \"chain_name\": ' '}          |PL          |\n",
      "|expedia            |2023-04-03 15:35:07   |' '        |USD     |61.79    |{\"brand_id\": 9579, \"chain_id\": 9481, \"brand_name\": RENTERS, \"chain_name\": RENTERS}|PL          |\n",
      "|expedia            |2023-04-03 15:35:07   |3          |USD     |49.44    |{\"brand_id\": 300, \"chain_id\": -1, \"brand_name\": Novotel, \"chain_name\": Accor}     |PL          |\n",
      "|expedia            |2023-04-03 15:35:07   |3          |USD     |38.43    |{\"brand_id\": ' ', \"chain_id\": ' ', \"brand_name\": ' ', \"chain_name\": ' '}          |PL          |\n",
      "|expedia            |2023-04-03 15:35:07   |3.5        |USD     |0.0      |{\"brand_id\": ' ', \"chain_id\": ' ', \"brand_name\": ' ', \"chain_name\": ' '}          |PL          |\n",
      "|expedia            |2023-04-03 15:35:08   |' '        |USD     |142.04   |{\"brand_id\": ' ', \"chain_id\": ' ', \"brand_name\": ' ', \"chain_name\": ' '}          |PL          |\n",
      "|expedia            |2023-04-03 15:35:08   |5          |USD     |107.21   |{\"brand_id\": 272, \"chain_id\": -1, \"brand_name\": Sofitel, \"chain_name\": Accor}     |PL          |\n",
      "|expedia            |2023-04-03 15:35:08   |4          |USD     |67.37    |{\"brand_id\": 300, \"chain_id\": -1, \"brand_name\": Novotel, \"chain_name\": Accor}     |PL          |\n",
      "|expedia            |2023-04-03 15:35:07   |3          |USD     |51.93    |{\"brand_id\": ' ', \"chain_id\": ' ', \"brand_name\": ' ', \"chain_name\": ' '}          |PL          |\n",
      "|expedia            |2023-04-03 15:35:09   |' '        |USD     |68.9     |{\"brand_id\": ' ', \"chain_id\": ' ', \"brand_name\": ' ', \"chain_name\": ' '}          |PL          |\n",
      "|expedia            |2023-01-03 12:04:12   |3.5        |USD     |0.0      |{\"brand_id\": ' ', \"chain_id\": ' ', \"brand_name\": ' ', \"chain_name\": ' '}          |PL          |\n",
      "|expedia            |2023-04-03 15:35:09   |' '        |USD     |76.32    |{\"brand_id\": ' ', \"chain_id\": ' ', \"brand_name\": ' ', \"chain_name\": ' '}          |PL          |\n",
      "|expedia            |2023-04-03 15:35:09   |' '        |USD     |107.06   |{\"brand_id\": ' ', \"chain_id\": ' ', \"brand_name\": ' ', \"chain_name\": ' '}          |PL          |\n",
      "|expedia            |2023-04-03 15:35:09   |4          |USD     |88.54    |{\"brand_id\": ' ', \"chain_id\": ' ', \"brand_name\": ' ', \"chain_name\": ' '}          |PL          |\n",
      "|expedia            |2023-04-03 15:35:09   |' '        |USD     |72.08    |{\"brand_id\": ' ', \"chain_id\": ' ', \"brand_name\": ' ', \"chain_name\": ' '}          |PL          |\n",
      "|expedia            |2023-04-03 15:35:09   |' '        |USD     |107.06   |{\"brand_id\": ' ', \"chain_id\": ' ', \"brand_name\": ' ', \"chain_name\": ' '}          |PL          |\n",
      "|expedia            |2023-04-03 15:35:09   |' '        |USD     |58.3     |{\"brand_id\": ' ', \"chain_id\": ' ', \"brand_name\": ' ', \"chain_name\": ' '}          |PL          |\n",
      "|expedia            |2023-04-03 15:35:11   |4          |USD     |70.54    |{\"brand_id\": ' ', \"chain_id\": ' ', \"brand_name\": ' ', \"chain_name\": ' '}          |PL          |\n",
      "+-------------------+----------------------+-----------+--------+---------+----------------------------------------------------------------------------------+------------+\n",
      "only showing top 20 rows\n",
      "\n"
     ]
    }
   ],
   "source": [
    "df1 = spark.sql(\"SELECT * FROM local.siamdb.full_schema_table\")\n",
    "\n",
    "# Show the contents of the DataFrame\n",
    "df1.show(truncate=False)"
   ]
  }
 ],
 "metadata": {
  "kernelspec": {
   "display_name": "env",
   "language": "python",
   "name": "python3"
  },
  "language_info": {
   "codemirror_mode": {
    "name": "ipython",
    "version": 3
   },
   "file_extension": ".py",
   "mimetype": "text/x-python",
   "name": "python",
   "nbconvert_exporter": "python",
   "pygments_lexer": "ipython3",
   "version": "3.12.3"
  }
 },
 "nbformat": 4,
 "nbformat_minor": 2
}
